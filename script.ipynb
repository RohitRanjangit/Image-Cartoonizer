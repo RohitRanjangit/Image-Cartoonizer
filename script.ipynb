{
 "metadata": {
  "language_info": {
   "codemirror_mode": {
    "name": "ipython",
    "version": 3
   },
   "file_extension": ".py",
   "mimetype": "text/x-python",
   "name": "python",
   "nbconvert_exporter": "python",
   "pygments_lexer": "ipython3",
   "version": "3.8.5-final"
  },
  "orig_nbformat": 2,
  "kernelspec": {
   "name": "python3",
   "display_name": "Python 3.8.5 64-bit",
   "metadata": {
    "interpreter": {
     "hash": "31f2aee4e71d21fbe5cf8b01ff0e069b9275f58929596ceb00d14d90e3e16cd6"
    }
   }
  }
 },
 "nbformat": 4,
 "nbformat_minor": 2,
 "cells": [
  {
   "cell_type": "code",
   "execution_count": 1,
   "metadata": {},
   "outputs": [
    {
     "output_type": "stream",
     "name": "stdout",
     "text": [
      "--ip=127.0.0.1\n"
     ]
    }
   ],
   "source": [
    "import cv2\n",
    "import sys\n",
    "\n",
    "try:\n",
    "    image_dir = sys.argv[1]\n",
    "    print(image_dir)\n",
    "except FileNotFoundError:\n",
    "    print(\"Specified Image not found\")\n",
    "\n",
    "\n",
    "#read image\n",
    "img=cv2.imread(\"rohitrjn.jpg\")\n",
    "\n",
    "#fix edges\n",
    "gray=cv2.cvtColor(img,cv2.COLOR_BGR2GRAY)\n",
    "gray=cv2.medianBlur(gray,5)\n",
    "edges=cv2.adaptiveThreshold(gray,255,cv2.ADAPTIVE_THRESH_MEAN_C, cv2.THRESH_BINARY,9,9)\n",
    "\n",
    "#cartoonizing image\n",
    "color=cv2.bilateralFilter(img,9,250,250)\n",
    "cartoon=cv2.bitwise_and(color, color,mask=edges)\n",
    "\n",
    "cv2.imshow(\"Image\",img)\n",
    "cv2.imshow(\"edges\", edges)\n",
    "cv2.imshow(\"Cartoon\", cartoon)\n",
    "cv2.waitKey(0)\n",
    "cv2.destroyAllWindows()"
   ]
  },
  {
   "cell_type": "code",
   "execution_count": null,
   "metadata": {},
   "outputs": [],
   "source": []
  }
 ]
}